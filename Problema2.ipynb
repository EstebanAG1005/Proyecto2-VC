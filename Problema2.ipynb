{
 "cells": [
  {
   "cell_type": "markdown",
   "metadata": {},
   "source": [
    "# Problema 2:  Detector de rostros para video"
   ]
  },
  {
   "cell_type": "code",
   "execution_count": 37,
   "metadata": {},
   "outputs": [],
   "source": [
    "#!pip install opencv-python-headless\n",
    "#!pip install Pillow\n",
    "#!pip install python3-tkinter"
   ]
  },
  {
   "cell_type": "code",
   "execution_count": 40,
   "metadata": {},
   "outputs": [
    {
     "name": "stdout",
     "output_type": "stream",
     "text": [
      "Se terminó la ejecución de la camara.\n"
     ]
    }
   ],
   "source": [
    "from IPython.display import display, clear_output\n",
    "import cv2\n",
    "from PIL import Image\n",
    "import time\n",
    "\n",
    "# Carga el clasificador de Haar para detección de rostros\n",
    "face_cascade = cv2.CascadeClassifier(cv2.data.haarcascades + 'haarcascade_frontalface_default.xml')\n",
    "\n",
    "# Inicializa la captura de video\n",
    "cap = cv2.VideoCapture(0)\n",
    "\n",
    "try:\n",
    "    while True:\n",
    "        # Captura frame por frame\n",
    "        ret, frame = cap.read()\n",
    "        if not ret:\n",
    "            break\n",
    "        \n",
    "        # Convierte a escala de grises para la detección\n",
    "        gray = cv2.cvtColor(frame, cv2.COLOR_BGR2GRAY)\n",
    "        \n",
    "        # Detecta los rostros en el frame\n",
    "        faces = face_cascade.detectMultiScale(gray, 1.1, 4)\n",
    "        \n",
    "        # Dibuja rectángulos alrededor de cada rostro\n",
    "        for (x, y, w, h) in faces:\n",
    "            cv2.rectangle(frame, (x, y), (x+w, y+h), (255, 0, 0), 2)\n",
    "        \n",
    "        # Convierte el frame de BGR a RGB\n",
    "        frame = cv2.cvtColor(frame, cv2.COLOR_BGR2RGB)\n",
    "        \n",
    "        # Convierte el frame a un objeto Image de PIL y lo muestra en el notebook\n",
    "        im_pil = Image.fromarray(frame)\n",
    "        display(im_pil)\n",
    "        \n",
    "        clear_output(wait=True)\n",
    "        \n",
    "        # Introduce un pequeño retraso para que no sea demasiado rápido\n",
    "        time.sleep(0.1)\n",
    "except KeyboardInterrupt:\n",
    "    # Interrumpe la ejecución si se presiona el botón de stop en el notebook\n",
    "    print(\"Se terminó la ejecución de la cámara.\")\n",
    "\n",
    "# Cuando todo está hecho, libera la captura\n",
    "cap.release()\n"
   ]
  }
 ],
 "metadata": {
  "kernelspec": {
   "display_name": "Python 3",
   "language": "python",
   "name": "python3"
  },
  "language_info": {
   "codemirror_mode": {
    "name": "ipython",
    "version": 3
   },
   "file_extension": ".py",
   "mimetype": "text/x-python",
   "name": "python",
   "nbconvert_exporter": "python",
   "pygments_lexer": "ipython3",
   "version": "3.12.0"
  }
 },
 "nbformat": 4,
 "nbformat_minor": 2
}
